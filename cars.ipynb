{
 "cells": [
  {
   "cell_type": "code",
   "execution_count": 2,
   "metadata": {},
   "outputs": [],
   "source": [
    "import pandas as pd\n",
    "import matplotlib.pyplot as plt\n",
    "import seaborn as sns"
   ]
  },
  {
   "cell_type": "code",
   "execution_count": 3,
   "metadata": {},
   "outputs": [],
   "source": [
    "car = pd.read_csv('cars.csv')"
   ]
  },
  {
   "cell_type": "code",
   "execution_count": 4,
   "metadata": {},
   "outputs": [
    {
     "data": {
      "text/html": [
       "<div>\n",
       "<style scoped>\n",
       "    .dataframe tbody tr th:only-of-type {\n",
       "        vertical-align: middle;\n",
       "    }\n",
       "\n",
       "    .dataframe tbody tr th {\n",
       "        vertical-align: top;\n",
       "    }\n",
       "\n",
       "    .dataframe thead th {\n",
       "        text-align: right;\n",
       "    }\n",
       "</style>\n",
       "<table border=\"1\" class=\"dataframe\">\n",
       "  <thead>\n",
       "    <tr style=\"text-align: right;\">\n",
       "      <th></th>\n",
       "      <th>Unnamed: 0</th>\n",
       "      <th>price</th>\n",
       "      <th>brand</th>\n",
       "      <th>model</th>\n",
       "      <th>year</th>\n",
       "      <th>title_status</th>\n",
       "      <th>mileage</th>\n",
       "      <th>color</th>\n",
       "      <th>vin</th>\n",
       "      <th>lot</th>\n",
       "      <th>state</th>\n",
       "      <th>country</th>\n",
       "      <th>condition</th>\n",
       "    </tr>\n",
       "  </thead>\n",
       "  <tbody>\n",
       "    <tr>\n",
       "      <th>0</th>\n",
       "      <td>0</td>\n",
       "      <td>6300</td>\n",
       "      <td>toyota</td>\n",
       "      <td>cruiser</td>\n",
       "      <td>2008</td>\n",
       "      <td>clean vehicle</td>\n",
       "      <td>274117.0</td>\n",
       "      <td>black</td>\n",
       "      <td>jtezu11f88k007763</td>\n",
       "      <td>159348797</td>\n",
       "      <td>new jersey</td>\n",
       "      <td>usa</td>\n",
       "      <td>10 days left</td>\n",
       "    </tr>\n",
       "    <tr>\n",
       "      <th>1</th>\n",
       "      <td>1</td>\n",
       "      <td>2899</td>\n",
       "      <td>ford</td>\n",
       "      <td>se</td>\n",
       "      <td>2011</td>\n",
       "      <td>clean vehicle</td>\n",
       "      <td>190552.0</td>\n",
       "      <td>silver</td>\n",
       "      <td>2fmdk3gc4bbb02217</td>\n",
       "      <td>166951262</td>\n",
       "      <td>tennessee</td>\n",
       "      <td>usa</td>\n",
       "      <td>6 days left</td>\n",
       "    </tr>\n",
       "    <tr>\n",
       "      <th>2</th>\n",
       "      <td>2</td>\n",
       "      <td>5350</td>\n",
       "      <td>dodge</td>\n",
       "      <td>mpv</td>\n",
       "      <td>2018</td>\n",
       "      <td>clean vehicle</td>\n",
       "      <td>39590.0</td>\n",
       "      <td>silver</td>\n",
       "      <td>3c4pdcgg5jt346413</td>\n",
       "      <td>167655728</td>\n",
       "      <td>georgia</td>\n",
       "      <td>usa</td>\n",
       "      <td>2 days left</td>\n",
       "    </tr>\n",
       "    <tr>\n",
       "      <th>3</th>\n",
       "      <td>3</td>\n",
       "      <td>25000</td>\n",
       "      <td>ford</td>\n",
       "      <td>door</td>\n",
       "      <td>2014</td>\n",
       "      <td>clean vehicle</td>\n",
       "      <td>64146.0</td>\n",
       "      <td>blue</td>\n",
       "      <td>1ftfw1et4efc23745</td>\n",
       "      <td>167753855</td>\n",
       "      <td>virginia</td>\n",
       "      <td>usa</td>\n",
       "      <td>22 hours left</td>\n",
       "    </tr>\n",
       "    <tr>\n",
       "      <th>4</th>\n",
       "      <td>4</td>\n",
       "      <td>27700</td>\n",
       "      <td>chevrolet</td>\n",
       "      <td>1500</td>\n",
       "      <td>2018</td>\n",
       "      <td>clean vehicle</td>\n",
       "      <td>6654.0</td>\n",
       "      <td>red</td>\n",
       "      <td>3gcpcrec2jg473991</td>\n",
       "      <td>167763266</td>\n",
       "      <td>florida</td>\n",
       "      <td>usa</td>\n",
       "      <td>22 hours left</td>\n",
       "    </tr>\n",
       "    <tr>\n",
       "      <th>5</th>\n",
       "      <td>5</td>\n",
       "      <td>5700</td>\n",
       "      <td>dodge</td>\n",
       "      <td>mpv</td>\n",
       "      <td>2018</td>\n",
       "      <td>clean vehicle</td>\n",
       "      <td>45561.0</td>\n",
       "      <td>white</td>\n",
       "      <td>2c4rdgeg9jr237989</td>\n",
       "      <td>167655771</td>\n",
       "      <td>texas</td>\n",
       "      <td>usa</td>\n",
       "      <td>2 days left</td>\n",
       "    </tr>\n",
       "    <tr>\n",
       "      <th>6</th>\n",
       "      <td>6</td>\n",
       "      <td>7300</td>\n",
       "      <td>chevrolet</td>\n",
       "      <td>pk</td>\n",
       "      <td>2010</td>\n",
       "      <td>clean vehicle</td>\n",
       "      <td>149050.0</td>\n",
       "      <td>black</td>\n",
       "      <td>1gcsksea1az121133</td>\n",
       "      <td>167753872</td>\n",
       "      <td>georgia</td>\n",
       "      <td>usa</td>\n",
       "      <td>22 hours left</td>\n",
       "    </tr>\n",
       "    <tr>\n",
       "      <th>7</th>\n",
       "      <td>7</td>\n",
       "      <td>13350</td>\n",
       "      <td>gmc</td>\n",
       "      <td>door</td>\n",
       "      <td>2017</td>\n",
       "      <td>clean vehicle</td>\n",
       "      <td>23525.0</td>\n",
       "      <td>gray</td>\n",
       "      <td>1gks2gkc3hr326762</td>\n",
       "      <td>167692494</td>\n",
       "      <td>california</td>\n",
       "      <td>usa</td>\n",
       "      <td>20 hours left</td>\n",
       "    </tr>\n",
       "  </tbody>\n",
       "</table>\n",
       "</div>"
      ],
      "text/plain": [
       "   Unnamed: 0  price      brand    model  year   title_status   mileage  \\\n",
       "0           0   6300     toyota  cruiser  2008  clean vehicle  274117.0   \n",
       "1           1   2899       ford       se  2011  clean vehicle  190552.0   \n",
       "2           2   5350      dodge      mpv  2018  clean vehicle   39590.0   \n",
       "3           3  25000       ford     door  2014  clean vehicle   64146.0   \n",
       "4           4  27700  chevrolet     1500  2018  clean vehicle    6654.0   \n",
       "5           5   5700      dodge      mpv  2018  clean vehicle   45561.0   \n",
       "6           6   7300  chevrolet       pk  2010  clean vehicle  149050.0   \n",
       "7           7  13350        gmc     door  2017  clean vehicle   23525.0   \n",
       "\n",
       "    color                  vin        lot       state country      condition  \n",
       "0   black    jtezu11f88k007763  159348797  new jersey     usa   10 days left  \n",
       "1  silver    2fmdk3gc4bbb02217  166951262   tennessee     usa    6 days left  \n",
       "2  silver    3c4pdcgg5jt346413  167655728     georgia     usa    2 days left  \n",
       "3    blue    1ftfw1et4efc23745  167753855    virginia     usa  22 hours left  \n",
       "4     red    3gcpcrec2jg473991  167763266     florida     usa  22 hours left  \n",
       "5   white    2c4rdgeg9jr237989  167655771       texas     usa    2 days left  \n",
       "6   black    1gcsksea1az121133  167753872     georgia     usa  22 hours left  \n",
       "7    gray    1gks2gkc3hr326762  167692494  california     usa  20 hours left  "
      ]
     },
     "execution_count": 4,
     "metadata": {},
     "output_type": "execute_result"
    }
   ],
   "source": [
    "car.head(8)"
   ]
  },
  {
   "cell_type": "code",
   "execution_count": 5,
   "metadata": {},
   "outputs": [
    {
     "data": {
      "text/plain": [
       "(549, 13)"
      ]
     },
     "execution_count": 5,
     "metadata": {},
     "output_type": "execute_result"
    }
   ],
   "source": [
    "car.shape"
   ]
  },
  {
   "cell_type": "code",
   "execution_count": 6,
   "metadata": {},
   "outputs": [
    {
     "data": {
      "text/plain": [
       "<bound method NDFrame.describe of      Unnamed: 0  price      brand    model  year       title_status   mileage  \\\n",
       "0             0   6300     toyota  cruiser  2008      clean vehicle  274117.0   \n",
       "1             1   2899       ford       se  2011      clean vehicle  190552.0   \n",
       "2             2   5350      dodge      mpv  2018      clean vehicle   39590.0   \n",
       "3             3  25000       ford     door  2014      clean vehicle   64146.0   \n",
       "4             4  27700  chevrolet     1500  2018      clean vehicle    6654.0   \n",
       "..          ...    ...        ...      ...   ...                ...       ...   \n",
       "544         544  26400       ford     door  2017      clean vehicle   36295.0   \n",
       "545         545      0        gmc     door  1993  salvage insurance       0.0   \n",
       "546         546  32500        gmc   2500hd  2018      clean vehicle   14856.0   \n",
       "547         547   6900      honda      mpv  2017      clean vehicle   44129.0   \n",
       "548         548  11030       jeep      mpv  2019      clean vehicle   10861.0   \n",
       "\n",
       "          color                  vin        lot         state country  \\\n",
       "0         black    jtezu11f88k007763  159348797    new jersey     usa   \n",
       "1        silver    2fmdk3gc4bbb02217  166951262     tennessee     usa   \n",
       "2        silver    3c4pdcgg5jt346413  167655728       georgia     usa   \n",
       "3          blue    1ftfw1et4efc23745  167753855      virginia     usa   \n",
       "4           red    3gcpcrec2jg473991  167763266       florida     usa   \n",
       "..          ...                  ...        ...           ...     ...   \n",
       "544         red    1ftew1ef3hfb27101  167765284      michigan     usa   \n",
       "545  light blue    1gkfk16k5pj701631  167358601      colorado     usa   \n",
       "546        blue    1gt12seg2jf255666  167604590  pennsylvania     usa   \n",
       "547       brown    5j6rw1h81hl005542  167702934     minnesota     usa   \n",
       "548      yellow    1c4hjxeg5kw608448  167256958      michigan     usa   \n",
       "\n",
       "         condition  \n",
       "0     10 days left  \n",
       "1      6 days left  \n",
       "2      2 days left  \n",
       "3    22 hours left  \n",
       "4    22 hours left  \n",
       "..             ...  \n",
       "544  19 hours left  \n",
       "545  18 hours left  \n",
       "546    1 days left  \n",
       "547  18 hours left  \n",
       "548    2 days left  \n",
       "\n",
       "[549 rows x 13 columns]>"
      ]
     },
     "execution_count": 6,
     "metadata": {},
     "output_type": "execute_result"
    }
   ],
   "source": [
    "car.describe"
   ]
  },
  {
   "cell_type": "code",
   "execution_count": 7,
   "metadata": {},
   "outputs": [
    {
     "data": {
      "text/plain": [
       "Unnamed: 0        int64\n",
       "price             int64\n",
       "brand            object\n",
       "model            object\n",
       "year              int64\n",
       "title_status     object\n",
       "mileage         float64\n",
       "color            object\n",
       "vin              object\n",
       "lot               int64\n",
       "state            object\n",
       "country          object\n",
       "condition        object\n",
       "dtype: object"
      ]
     },
     "execution_count": 7,
     "metadata": {},
     "output_type": "execute_result"
    }
   ],
   "source": [
    "car.dtypes"
   ]
  },
  {
   "cell_type": "code",
   "execution_count": 8,
   "metadata": {},
   "outputs": [
    {
     "data": {
      "text/plain": [
       "<matplotlib.axes._subplots.AxesSubplot at 0x2b3bab31d90>"
      ]
     },
     "execution_count": 8,
     "metadata": {},
     "output_type": "execute_result"
    },
    {
     "data": {
      "image/png": "[encoded data removed]",
      "text/plain": [
       "<Figure size 432x288 with 1 Axes>"
      ]
     },
     "metadata": {
      "needs_background": "light"
     },
     "output_type": "display_data"
    }
   ],
   "source": [
    "sns.distplot(car.query('mileage <=  150000 ').year)"
   ]
  },
  {
   "cell_type": "code",
   "execution_count": 9,
   "metadata": {},
   "outputs": [
    {
     "data": {
      "text/html": [
       "<div>\n",
       "<style scoped>\n",
       "    .dataframe tbody tr th:only-of-type {\n",
       "        vertical-align: middle;\n",
       "    }\n",
       "\n",
       "    .dataframe tbody tr th {\n",
       "        vertical-align: top;\n",
       "    }\n",
       "\n",
       "    .dataframe thead th {\n",
       "        text-align: right;\n",
       "    }\n",
       "</style>\n",
       "<table border=\"1\" class=\"dataframe\">\n",
       "  <thead>\n",
       "    <tr style=\"text-align: right;\">\n",
       "      <th></th>\n",
       "      <th>Unnamed: 0</th>\n",
       "      <th>price</th>\n",
       "      <th>brand</th>\n",
       "      <th>model</th>\n",
       "      <th>year</th>\n",
       "      <th>title_status</th>\n",
       "      <th>mileage</th>\n",
       "      <th>color</th>\n",
       "      <th>vin</th>\n",
       "      <th>lot</th>\n",
       "      <th>state</th>\n",
       "      <th>country</th>\n",
       "      <th>condition</th>\n",
       "    </tr>\n",
       "  </thead>\n",
       "  <tbody>\n",
       "    <tr>\n",
       "      <th>1</th>\n",
       "      <td>1</td>\n",
       "      <td>2899</td>\n",
       "      <td>ford</td>\n",
       "      <td>se</td>\n",
       "      <td>2011</td>\n",
       "      <td>clean vehicle</td>\n",
       "      <td>190552.0</td>\n",
       "      <td>silver</td>\n",
       "      <td>2fmdk3gc4bbb02217</td>\n",
       "      <td>166951262</td>\n",
       "      <td>tennessee</td>\n",
       "      <td>usa</td>\n",
       "      <td>6 days left</td>\n",
       "    </tr>\n",
       "    <tr>\n",
       "      <th>2</th>\n",
       "      <td>2</td>\n",
       "      <td>5350</td>\n",
       "      <td>dodge</td>\n",
       "      <td>mpv</td>\n",
       "      <td>2018</td>\n",
       "      <td>clean vehicle</td>\n",
       "      <td>39590.0</td>\n",
       "      <td>silver</td>\n",
       "      <td>3c4pdcgg5jt346413</td>\n",
       "      <td>167655728</td>\n",
       "      <td>georgia</td>\n",
       "      <td>usa</td>\n",
       "      <td>2 days left</td>\n",
       "    </tr>\n",
       "    <tr>\n",
       "      <th>3</th>\n",
       "      <td>3</td>\n",
       "      <td>25000</td>\n",
       "      <td>ford</td>\n",
       "      <td>door</td>\n",
       "      <td>2014</td>\n",
       "      <td>clean vehicle</td>\n",
       "      <td>64146.0</td>\n",
       "      <td>blue</td>\n",
       "      <td>1ftfw1et4efc23745</td>\n",
       "      <td>167753855</td>\n",
       "      <td>virginia</td>\n",
       "      <td>usa</td>\n",
       "      <td>22 hours left</td>\n",
       "    </tr>\n",
       "    <tr>\n",
       "      <th>4</th>\n",
       "      <td>4</td>\n",
       "      <td>27700</td>\n",
       "      <td>chevrolet</td>\n",
       "      <td>1500</td>\n",
       "      <td>2018</td>\n",
       "      <td>clean vehicle</td>\n",
       "      <td>6654.0</td>\n",
       "      <td>red</td>\n",
       "      <td>3gcpcrec2jg473991</td>\n",
       "      <td>167763266</td>\n",
       "      <td>florida</td>\n",
       "      <td>usa</td>\n",
       "      <td>22 hours left</td>\n",
       "    </tr>\n",
       "    <tr>\n",
       "      <th>5</th>\n",
       "      <td>5</td>\n",
       "      <td>5700</td>\n",
       "      <td>dodge</td>\n",
       "      <td>mpv</td>\n",
       "      <td>2018</td>\n",
       "      <td>clean vehicle</td>\n",
       "      <td>45561.0</td>\n",
       "      <td>white</td>\n",
       "      <td>2c4rdgeg9jr237989</td>\n",
       "      <td>167655771</td>\n",
       "      <td>texas</td>\n",
       "      <td>usa</td>\n",
       "      <td>2 days left</td>\n",
       "    </tr>\n",
       "    <tr>\n",
       "      <th>6</th>\n",
       "      <td>6</td>\n",
       "      <td>7300</td>\n",
       "      <td>chevrolet</td>\n",
       "      <td>pk</td>\n",
       "      <td>2010</td>\n",
       "      <td>clean vehicle</td>\n",
       "      <td>149050.0</td>\n",
       "      <td>black</td>\n",
       "      <td>1gcsksea1az121133</td>\n",
       "      <td>167753872</td>\n",
       "      <td>georgia</td>\n",
       "      <td>usa</td>\n",
       "      <td>22 hours left</td>\n",
       "    </tr>\n",
       "  </tbody>\n",
       "</table>\n",
       "</div>"
      ],
      "text/plain": [
       "   Unnamed: 0  price      brand model  year   title_status   mileage   color  \\\n",
       "1           1   2899       ford    se  2011  clean vehicle  190552.0  silver   \n",
       "2           2   5350      dodge   mpv  2018  clean vehicle   39590.0  silver   \n",
       "3           3  25000       ford  door  2014  clean vehicle   64146.0    blue   \n",
       "4           4  27700  chevrolet  1500  2018  clean vehicle    6654.0     red   \n",
       "5           5   5700      dodge   mpv  2018  clean vehicle   45561.0   white   \n",
       "6           6   7300  chevrolet    pk  2010  clean vehicle  149050.0   black   \n",
       "\n",
       "                   vin        lot      state country      condition  \n",
       "1    2fmdk3gc4bbb02217  166951262  tennessee     usa    6 days left  \n",
       "2    3c4pdcgg5jt346413  167655728    georgia     usa    2 days left  \n",
       "3    1ftfw1et4efc23745  167753855   virginia     usa  22 hours left  \n",
       "4    3gcpcrec2jg473991  167763266    florida     usa  22 hours left  \n",
       "5    2c4rdgeg9jr237989  167655771      texas     usa    2 days left  \n",
       "6    1gcsksea1az121133  167753872    georgia     usa  22 hours left  "
      ]
     },
     "execution_count": 9,
     "metadata": {},
     "output_type": "execute_result"
    }
   ],
   "source": [
    "car.query('year >= 2009').head(6)"
   ]
  },
  {
   "cell_type": "code",
   "execution_count": 10,
   "metadata": {},
   "outputs": [
    {
     "data": {
      "text/html": [
       "<div>\n",
       "<style scoped>\n",
       "    .dataframe tbody tr th:only-of-type {\n",
       "        vertical-align: middle;\n",
       "    }\n",
       "\n",
       "    .dataframe tbody tr th {\n",
       "        vertical-align: top;\n",
       "    }\n",
       "\n",
       "    .dataframe thead th {\n",
       "        text-align: right;\n",
       "    }\n",
       "</style>\n",
       "<table border=\"1\" class=\"dataframe\">\n",
       "  <thead>\n",
       "    <tr style=\"text-align: right;\">\n",
       "      <th></th>\n",
       "      <th>Unnamed: 0</th>\n",
       "      <th>price</th>\n",
       "      <th>brand</th>\n",
       "      <th>model</th>\n",
       "      <th>year</th>\n",
       "      <th>title_status</th>\n",
       "      <th>mileage</th>\n",
       "      <th>color</th>\n",
       "      <th>vin</th>\n",
       "      <th>lot</th>\n",
       "      <th>state</th>\n",
       "      <th>country</th>\n",
       "      <th>condition</th>\n",
       "    </tr>\n",
       "  </thead>\n",
       "  <tbody>\n",
       "    <tr>\n",
       "      <th>44</th>\n",
       "      <td>44</td>\n",
       "      <td>55000</td>\n",
       "      <td>ford</td>\n",
       "      <td>srw</td>\n",
       "      <td>2017</td>\n",
       "      <td>clean vehicle</td>\n",
       "      <td>15273.0</td>\n",
       "      <td>black</td>\n",
       "      <td>1ft7w3bt5hee88155</td>\n",
       "      <td>167754310</td>\n",
       "      <td>pennsylvania</td>\n",
       "      <td>usa</td>\n",
       "      <td>3 days left</td>\n",
       "    </tr>\n",
       "    <tr>\n",
       "      <th>49</th>\n",
       "      <td>49</td>\n",
       "      <td>54000</td>\n",
       "      <td>ford</td>\n",
       "      <td>srw</td>\n",
       "      <td>2017</td>\n",
       "      <td>clean vehicle</td>\n",
       "      <td>26241.0</td>\n",
       "      <td>black</td>\n",
       "      <td>1ft7w3bt0hef02785</td>\n",
       "      <td>167754311</td>\n",
       "      <td>pennsylvania</td>\n",
       "      <td>usa</td>\n",
       "      <td>3 days left</td>\n",
       "    </tr>\n",
       "    <tr>\n",
       "      <th>95</th>\n",
       "      <td>95</td>\n",
       "      <td>53500</td>\n",
       "      <td>bmw</td>\n",
       "      <td>m</td>\n",
       "      <td>2017</td>\n",
       "      <td>clean vehicle</td>\n",
       "      <td>29355.0</td>\n",
       "      <td>blue</td>\n",
       "      <td>5ymkt6c37h0x20696</td>\n",
       "      <td>167765095</td>\n",
       "      <td>michigan</td>\n",
       "      <td>usa</td>\n",
       "      <td>2 days left</td>\n",
       "    </tr>\n",
       "    <tr>\n",
       "      <th>122</th>\n",
       "      <td>122</td>\n",
       "      <td>47500</td>\n",
       "      <td>cadillac</td>\n",
       "      <td>door</td>\n",
       "      <td>2017</td>\n",
       "      <td>clean vehicle</td>\n",
       "      <td>26562.0</td>\n",
       "      <td>black</td>\n",
       "      <td>1gys4ckj7hr359884</td>\n",
       "      <td>167765120</td>\n",
       "      <td>michigan</td>\n",
       "      <td>usa</td>\n",
       "      <td>2 days left</td>\n",
       "    </tr>\n",
       "    <tr>\n",
       "      <th>127</th>\n",
       "      <td>127</td>\n",
       "      <td>53000</td>\n",
       "      <td>chevrolet</td>\n",
       "      <td>3500</td>\n",
       "      <td>2018</td>\n",
       "      <td>clean vehicle</td>\n",
       "      <td>16105.0</td>\n",
       "      <td>black</td>\n",
       "      <td>1gc4k1ey0jf149152</td>\n",
       "      <td>167765123</td>\n",
       "      <td>washington</td>\n",
       "      <td>usa</td>\n",
       "      <td>21 hours left</td>\n",
       "    </tr>\n",
       "    <tr>\n",
       "      <th>216</th>\n",
       "      <td>216</td>\n",
       "      <td>45500</td>\n",
       "      <td>chevrolet</td>\n",
       "      <td>tahoe</td>\n",
       "      <td>2020</td>\n",
       "      <td>clean vehicle</td>\n",
       "      <td>13303.0</td>\n",
       "      <td>white</td>\n",
       "      <td>1gnscbkc4lr164829</td>\n",
       "      <td>167765997</td>\n",
       "      <td>georgia</td>\n",
       "      <td>usa</td>\n",
       "      <td>3 days left</td>\n",
       "    </tr>\n",
       "    <tr>\n",
       "      <th>219</th>\n",
       "      <td>219</td>\n",
       "      <td>45500</td>\n",
       "      <td>chevrolet</td>\n",
       "      <td>tahoe</td>\n",
       "      <td>2020</td>\n",
       "      <td>clean vehicle</td>\n",
       "      <td>13679.0</td>\n",
       "      <td>gray</td>\n",
       "      <td>1gnscbkcxlr162857</td>\n",
       "      <td>167765999</td>\n",
       "      <td>georgia</td>\n",
       "      <td>usa</td>\n",
       "      <td>3 days left</td>\n",
       "    </tr>\n",
       "    <tr>\n",
       "      <th>225</th>\n",
       "      <td>225</td>\n",
       "      <td>45500</td>\n",
       "      <td>chevrolet</td>\n",
       "      <td>tahoe</td>\n",
       "      <td>2020</td>\n",
       "      <td>clean vehicle</td>\n",
       "      <td>13885.0</td>\n",
       "      <td>white</td>\n",
       "      <td>1gnscbkc6lr159535</td>\n",
       "      <td>167766009</td>\n",
       "      <td>georgia</td>\n",
       "      <td>usa</td>\n",
       "      <td>3 days left</td>\n",
       "    </tr>\n",
       "  </tbody>\n",
       "</table>\n",
       "</div>"
      ],
      "text/plain": [
       "     Unnamed: 0  price      brand  model  year   title_status  mileage  color  \\\n",
       "44           44  55000       ford    srw  2017  clean vehicle  15273.0  black   \n",
       "49           49  54000       ford    srw  2017  clean vehicle  26241.0  black   \n",
       "95           95  53500        bmw      m  2017  clean vehicle  29355.0   blue   \n",
       "122         122  47500   cadillac   door  2017  clean vehicle  26562.0  black   \n",
       "127         127  53000  chevrolet   3500  2018  clean vehicle  16105.0  black   \n",
       "216         216  45500  chevrolet  tahoe  2020  clean vehicle  13303.0  white   \n",
       "219         219  45500  chevrolet  tahoe  2020  clean vehicle  13679.0   gray   \n",
       "225         225  45500  chevrolet  tahoe  2020  clean vehicle  13885.0  white   \n",
       "\n",
       "                     vin        lot         state country      condition  \n",
       "44     1ft7w3bt5hee88155  167754310  pennsylvania     usa    3 days left  \n",
       "49     1ft7w3bt0hef02785  167754311  pennsylvania     usa    3 days left  \n",
       "95     5ymkt6c37h0x20696  167765095      michigan     usa    2 days left  \n",
       "122    1gys4ckj7hr359884  167765120      michigan     usa    2 days left  \n",
       "127    1gc4k1ey0jf149152  167765123    washington     usa  21 hours left  \n",
       "216    1gnscbkc4lr164829  167765997       georgia     usa    3 days left  \n",
       "219    1gnscbkcxlr162857  167765999       georgia     usa    3 days left  \n",
       "225    1gnscbkc6lr159535  167766009       georgia     usa    3 days left  "
      ]
     },
     "execution_count": 10,
     "metadata": {},
     "output_type": "execute_result"
    }
   ],
   "source": [
    "car.query('year >= 2015 & price >= 42180').head(8)"
   ]
  },
  {
   "cell_type": "code",
   "execution_count": 11,
   "metadata": {},
   "outputs": [
    {
     "data": {
      "text/plain": [
       "<pandas.core.groupby.generic.DataFrameGroupBy object at 0x000002B3BAC634C0>"
      ]
     },
     "execution_count": 11,
     "metadata": {},
     "output_type": "execute_result"
    }
   ],
   "source": [
    "car.groupby(\"state\")"
   ]
  },
  {
   "cell_type": "code",
   "execution_count": 12,
   "metadata": {},
   "outputs": [
    {
     "data": {
      "text/html": [
       "<div>\n",
       "<style scoped>\n",
       "    .dataframe tbody tr th:only-of-type {\n",
       "        vertical-align: middle;\n",
       "    }\n",
       "\n",
       "    .dataframe tbody tr th {\n",
       "        vertical-align: top;\n",
       "    }\n",
       "\n",
       "    .dataframe thead th {\n",
       "        text-align: right;\n",
       "    }\n",
       "</style>\n",
       "<table border=\"1\" class=\"dataframe\">\n",
       "  <thead>\n",
       "    <tr style=\"text-align: right;\">\n",
       "      <th></th>\n",
       "      <th>Unnamed: 0</th>\n",
       "      <th>price</th>\n",
       "      <th>brand</th>\n",
       "      <th>model</th>\n",
       "      <th>year</th>\n",
       "      <th>title_status</th>\n",
       "      <th>mileage</th>\n",
       "      <th>color</th>\n",
       "      <th>vin</th>\n",
       "      <th>lot</th>\n",
       "      <th>state</th>\n",
       "      <th>country</th>\n",
       "      <th>condition</th>\n",
       "    </tr>\n",
       "  </thead>\n",
       "  <tbody>\n",
       "    <tr>\n",
       "      <th>0</th>\n",
       "      <td>0</td>\n",
       "      <td>6300</td>\n",
       "      <td>toyota</td>\n",
       "      <td>cruiser</td>\n",
       "      <td>2008</td>\n",
       "      <td>clean vehicle</td>\n",
       "      <td>274117.0</td>\n",
       "      <td>black</td>\n",
       "      <td>jtezu11f88k007763</td>\n",
       "      <td>159348797</td>\n",
       "      <td>new jersey</td>\n",
       "      <td>usa</td>\n",
       "      <td>10 days left</td>\n",
       "    </tr>\n",
       "    <tr>\n",
       "      <th>1</th>\n",
       "      <td>1</td>\n",
       "      <td>2899</td>\n",
       "      <td>ford</td>\n",
       "      <td>se</td>\n",
       "      <td>2011</td>\n",
       "      <td>clean vehicle</td>\n",
       "      <td>190552.0</td>\n",
       "      <td>silver</td>\n",
       "      <td>2fmdk3gc4bbb02217</td>\n",
       "      <td>166951262</td>\n",
       "      <td>tennessee</td>\n",
       "      <td>usa</td>\n",
       "      <td>6 days left</td>\n",
       "    </tr>\n",
       "    <tr>\n",
       "      <th>2</th>\n",
       "      <td>2</td>\n",
       "      <td>5350</td>\n",
       "      <td>dodge</td>\n",
       "      <td>mpv</td>\n",
       "      <td>2018</td>\n",
       "      <td>clean vehicle</td>\n",
       "      <td>39590.0</td>\n",
       "      <td>silver</td>\n",
       "      <td>3c4pdcgg5jt346413</td>\n",
       "      <td>167655728</td>\n",
       "      <td>georgia</td>\n",
       "      <td>usa</td>\n",
       "      <td>2 days left</td>\n",
       "    </tr>\n",
       "    <tr>\n",
       "      <th>3</th>\n",
       "      <td>3</td>\n",
       "      <td>25000</td>\n",
       "      <td>ford</td>\n",
       "      <td>door</td>\n",
       "      <td>2014</td>\n",
       "      <td>clean vehicle</td>\n",
       "      <td>64146.0</td>\n",
       "      <td>blue</td>\n",
       "      <td>1ftfw1et4efc23745</td>\n",
       "      <td>167753855</td>\n",
       "      <td>virginia</td>\n",
       "      <td>usa</td>\n",
       "      <td>22 hours left</td>\n",
       "    </tr>\n",
       "    <tr>\n",
       "      <th>4</th>\n",
       "      <td>4</td>\n",
       "      <td>27700</td>\n",
       "      <td>chevrolet</td>\n",
       "      <td>1500</td>\n",
       "      <td>2018</td>\n",
       "      <td>clean vehicle</td>\n",
       "      <td>6654.0</td>\n",
       "      <td>red</td>\n",
       "      <td>3gcpcrec2jg473991</td>\n",
       "      <td>167763266</td>\n",
       "      <td>florida</td>\n",
       "      <td>usa</td>\n",
       "      <td>22 hours left</td>\n",
       "    </tr>\n",
       "    <tr>\n",
       "      <th>...</th>\n",
       "      <td>...</td>\n",
       "      <td>...</td>\n",
       "      <td>...</td>\n",
       "      <td>...</td>\n",
       "      <td>...</td>\n",
       "      <td>...</td>\n",
       "      <td>...</td>\n",
       "      <td>...</td>\n",
       "      <td>...</td>\n",
       "      <td>...</td>\n",
       "      <td>...</td>\n",
       "      <td>...</td>\n",
       "      <td>...</td>\n",
       "    </tr>\n",
       "    <tr>\n",
       "      <th>534</th>\n",
       "      <td>534</td>\n",
       "      <td>75</td>\n",
       "      <td>ford</td>\n",
       "      <td>door</td>\n",
       "      <td>2007</td>\n",
       "      <td>salvage insurance</td>\n",
       "      <td>154989.0</td>\n",
       "      <td>blue</td>\n",
       "      <td>3fahp06z07r118828</td>\n",
       "      <td>167357820</td>\n",
       "      <td>oklahoma</td>\n",
       "      <td>usa</td>\n",
       "      <td>17 hours left</td>\n",
       "    </tr>\n",
       "    <tr>\n",
       "      <th>541</th>\n",
       "      <td>541</td>\n",
       "      <td>25</td>\n",
       "      <td>chevrolet</td>\n",
       "      <td>pickup</td>\n",
       "      <td>2010</td>\n",
       "      <td>salvage insurance</td>\n",
       "      <td>149189.0</td>\n",
       "      <td>white</td>\n",
       "      <td>3gcrkse37ag234620</td>\n",
       "      <td>167650663</td>\n",
       "      <td>colorado</td>\n",
       "      <td>usa</td>\n",
       "      <td>17 hours left</td>\n",
       "    </tr>\n",
       "    <tr>\n",
       "      <th>542</th>\n",
       "      <td>542</td>\n",
       "      <td>1200</td>\n",
       "      <td>chevrolet</td>\n",
       "      <td>door</td>\n",
       "      <td>2001</td>\n",
       "      <td>clean vehicle</td>\n",
       "      <td>149543.0</td>\n",
       "      <td>red</td>\n",
       "      <td>2cnbj13c316958216</td>\n",
       "      <td>167781232</td>\n",
       "      <td>wisconsin</td>\n",
       "      <td>usa</td>\n",
       "      <td>21 hours left</td>\n",
       "    </tr>\n",
       "    <tr>\n",
       "      <th>545</th>\n",
       "      <td>545</td>\n",
       "      <td>0</td>\n",
       "      <td>gmc</td>\n",
       "      <td>door</td>\n",
       "      <td>1993</td>\n",
       "      <td>salvage insurance</td>\n",
       "      <td>0.0</td>\n",
       "      <td>light blue</td>\n",
       "      <td>1gkfk16k5pj701631</td>\n",
       "      <td>167358601</td>\n",
       "      <td>colorado</td>\n",
       "      <td>usa</td>\n",
       "      <td>18 hours left</td>\n",
       "    </tr>\n",
       "    <tr>\n",
       "      <th>547</th>\n",
       "      <td>547</td>\n",
       "      <td>6900</td>\n",
       "      <td>honda</td>\n",
       "      <td>mpv</td>\n",
       "      <td>2017</td>\n",
       "      <td>clean vehicle</td>\n",
       "      <td>44129.0</td>\n",
       "      <td>brown</td>\n",
       "      <td>5j6rw1h81hl005542</td>\n",
       "      <td>167702934</td>\n",
       "      <td>minnesota</td>\n",
       "      <td>usa</td>\n",
       "      <td>18 hours left</td>\n",
       "    </tr>\n",
       "  </tbody>\n",
       "</table>\n",
       "<p>188 rows × 13 columns</p>\n",
       "</div>"
      ],
      "text/plain": [
       "     Unnamed: 0  price      brand    model  year       title_status   mileage  \\\n",
       "0             0   6300     toyota  cruiser  2008      clean vehicle  274117.0   \n",
       "1             1   2899       ford       se  2011      clean vehicle  190552.0   \n",
       "2             2   5350      dodge      mpv  2018      clean vehicle   39590.0   \n",
       "3             3  25000       ford     door  2014      clean vehicle   64146.0   \n",
       "4             4  27700  chevrolet     1500  2018      clean vehicle    6654.0   \n",
       "..          ...    ...        ...      ...   ...                ...       ...   \n",
       "534         534     75       ford     door  2007  salvage insurance  154989.0   \n",
       "541         541     25  chevrolet   pickup  2010  salvage insurance  149189.0   \n",
       "542         542   1200  chevrolet     door  2001      clean vehicle  149543.0   \n",
       "545         545      0        gmc     door  1993  salvage insurance       0.0   \n",
       "547         547   6900      honda      mpv  2017      clean vehicle   44129.0   \n",
       "\n",
       "          color                  vin        lot       state country  \\\n",
       "0         black    jtezu11f88k007763  159348797  new jersey     usa   \n",
       "1        silver    2fmdk3gc4bbb02217  166951262   tennessee     usa   \n",
       "2        silver    3c4pdcgg5jt346413  167655728     georgia     usa   \n",
       "3          blue    1ftfw1et4efc23745  167753855    virginia     usa   \n",
       "4           red    3gcpcrec2jg473991  167763266     florida     usa   \n",
       "..          ...                  ...        ...         ...     ...   \n",
       "534        blue    3fahp06z07r118828  167357820    oklahoma     usa   \n",
       "541       white    3gcrkse37ag234620  167650663    colorado     usa   \n",
       "542         red    2cnbj13c316958216  167781232   wisconsin     usa   \n",
       "545  light blue    1gkfk16k5pj701631  167358601    colorado     usa   \n",
       "547       brown    5j6rw1h81hl005542  167702934   minnesota     usa   \n",
       "\n",
       "         condition  \n",
       "0     10 days left  \n",
       "1      6 days left  \n",
       "2      2 days left  \n",
       "3    22 hours left  \n",
       "4    22 hours left  \n",
       "..             ...  \n",
       "534  17 hours left  \n",
       "541  17 hours left  \n",
       "542  21 hours left  \n",
       "545  18 hours left  \n",
       "547  18 hours left  \n",
       "\n",
       "[188 rows x 13 columns]"
      ]
     },
     "execution_count": 12,
     "metadata": {},
     "output_type": "execute_result"
    }
   ],
   "source": [
    "car.groupby(\"state\").head(8)"
   ]
  },
  {
   "cell_type": "code",
   "execution_count": 13,
   "metadata": {},
   "outputs": [
    {
     "data": {
      "text/plain": [
       "<matplotlib.axes._subplots.AxesSubplot at 0x2b3bad0b670>"
      ]
     },
     "execution_count": 13,
     "metadata": {},
     "output_type": "execute_result"
    },
    {
     "data": {
      "image/png": "[encoded data removed]",
      "text/plain": [
       "<Figure size 432x288 with 1 Axes>"
      ]
     },
     "metadata": {
      "needs_background": "light"
     },
     "output_type": "display_data"
    }
   ],
   "source": [
    "car.plot.scatter(x = 'year', y = 'price')"
   ]
  },
  {
   "cell_type": "code",
   "execution_count": 14,
   "metadata": {},
   "outputs": [
    {
     "data": {
      "text/plain": [
       "<matplotlib.axes._subplots.AxesSubplot at 0x2b3bad608b0>"
      ]
     },
     "execution_count": 14,
     "metadata": {},
     "output_type": "execute_result"
    },
    {
     "data": {
      "image/png": "[encoded data removed]",
      "text/plain": [
       "<Figure size 432x288 with 2 Axes>"
      ]
     },
     "metadata": {
      "needs_background": "light"
     },
     "output_type": "display_data"
    }
   ],
   "source": [
    "corr = car.corr()\n",
    "sns.heatmap(corr)"
   ]
  },
  {
   "cell_type": "code",
   "execution_count": 15,
   "metadata": {},
   "outputs": [
    {
     "data": {
      "text/plain": [
       "<matplotlib.axes._subplots.AxesSubplot at 0x2b3bae28a00>"
      ]
     },
     "execution_count": 15,
     "metadata": {},
     "output_type": "execute_result"
    },
    {
     "data": {
      "image/png": "[encoded data removed]",
      "text/plain": [
       "<Figure size 432x288 with 1 Axes>"
      ]
     },
     "metadata": {
      "needs_background": "light"
     },
     "output_type": "display_data"
    }
   ],
   "source": [
    "sns.distplot(car.query('mileage <=  150000 ').year)\n",
    "sns.distplot(car.query('mileage >=  95000 ').year)"
   ]
  },
  {
   "cell_type": "code",
   "execution_count": 16,
   "metadata": {},
   "outputs": [
    {
     "data": {
      "text/plain": [
       "84900"
      ]
     },
     "execution_count": 16,
     "metadata": {},
     "output_type": "execute_result"
    }
   ],
   "source": [
    "car.price.max()"
   ]
  },
  {
   "cell_type": "code",
   "execution_count": 17,
   "metadata": {
    "scrolled": true
   },
   "outputs": [
    {
     "data": {
      "text/plain": [
       "0"
      ]
     },
     "execution_count": 17,
     "metadata": {},
     "output_type": "execute_result"
    }
   ],
   "source": [
    "car.price.min()"
   ]
  },
  {
   "cell_type": "code",
   "execution_count": 18,
   "metadata": {},
   "outputs": [
    {
     "data": {
      "text/plain": [
       "1105895"
      ]
     },
     "execution_count": 18,
     "metadata": {},
     "output_type": "execute_result"
    }
   ],
   "source": [
    "car.year.sum()"
   ]
  },
  {
   "cell_type": "code",
   "execution_count": 19,
   "metadata": {},
   "outputs": [
    {
     "data": {
      "text/plain": [
       "13007.43897996357"
      ]
     },
     "execution_count": 19,
     "metadata": {},
     "output_type": "execute_result"
    }
   ],
   "source": [
    "car.price.mean()"
   ]
  },
  {
   "cell_type": "code",
   "execution_count": 20,
   "metadata": {},
   "outputs": [
    {
     "data": {
      "text/plain": [
       "<matplotlib.axes._subplots.AxesSubplot at 0x2b3baf1ccd0>"
      ]
     },
     "execution_count": 20,
     "metadata": {},
     "output_type": "execute_result"
    },
    {
     "data": {
      "image/png": "[encoded data removed]",
      "text/plain": [
       "<Figure size 432x288 with 1 Axes>"
      ]
     },
     "metadata": {
      "needs_background": "light"
     },
     "output_type": "display_data"
    }
   ],
   "source": [
    "car.year.hist()"
   ]
  },
  {
   "cell_type": "code",
   "execution_count": 21,
   "metadata": {},
   "outputs": [],
   "source": [
    "info =car.groupby('year') \\\n",
    "        .agg({'price':'sum'})"
   ]
  },
  {
   "cell_type": "code",
   "execution_count": 22,
   "metadata": {},
   "outputs": [
    {
     "data": {
      "text/plain": [
       "<matplotlib.axes._subplots.AxesSubplot at 0x2b3baaf18b0>"
      ]
     },
     "execution_count": 22,
     "metadata": {},
     "output_type": "execute_result"
    },
    {
     "data": {
      "image/png": "[encoded data removed]",
      "text/plain": [
       "<Figure size 432x288 with 1 Axes>"
      ]
     },
     "metadata": {
      "needs_background": "light"
     },
     "output_type": "display_data"
    }
   ],
   "source": [
    "sns.distplot(info)"
   ]
  }
 ],
 "metadata": {
  "kernelspec": {
   "display_name": "Python 3",
   "language": "python",
   "name": "python3"
  },
  "language_info": {
   "codemirror_mode": {
    "name": "ipython",
    "version": 3
   },
   "file_extension": ".py",
   "mimetype": "text/x-python",
   "name": "python",
   "nbconvert_exporter": "python",
   "pygments_lexer": "ipython3",
   "version": "3.8.3"
  }
 },
 "nbformat": 4,
 "nbformat_minor": 4
}
